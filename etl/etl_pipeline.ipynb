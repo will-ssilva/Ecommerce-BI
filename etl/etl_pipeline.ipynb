{
 "cells": [
  {
   "cell_type": "code",
   "execution_count": null,
   "id": "75779097",
   "metadata": {},
   "outputs": [],
   "source": [
    "import pandas as pd\n",
    "\n",
    "df = pd.read_csv(r'C:\\Users\\willi\\Documents\\001. Projetos\\002. Treinamentos\\003. Power BI\\002. Ecommerce Kaggle\\Ecommerce-BI\\data_raw\\ecommerce_events.csv')"
   ]
  },
  {
   "cell_type": "markdown",
   "id": "ce428700",
   "metadata": {},
   "source": [
    "### **Tabelas Dimensão**"
   ]
  },
  {
   "cell_type": "code",
   "execution_count": 6,
   "id": "90bbcee3",
   "metadata": {},
   "outputs": [],
   "source": [
    "# Dimensão Produto\n",
    "dim_products = df[['product_id', 'category_id', 'category_code', 'brand', 'price']].drop_duplicates()\n",
    "\n",
    "# Dimensão Usuário\n",
    "dim_users = df[['user_id', 'user_session']].drop_duplicates()\n",
    "\n",
    "# Dimensão Tempo\n",
    "df['event_time'] = pd.to_datetime(df['event_time'])\n",
    "dim_date = df[['event_time']].drop_duplicates()\n",
    "dim_date['date'] = dim_date['event_time'].dt.date\n",
    "dim_date['year'] = dim_date['event_time'].dt.year\n",
    "dim_date['month'] = dim_date['event_time'].dt.month\n",
    "dim_date['day'] = dim_date['event_time'].dt.day\n",
    "dim_date['weekday'] = dim_date['event_time'].dt.day_name()"
   ]
  },
  {
   "cell_type": "markdown",
   "id": "b35f79f3",
   "metadata": {},
   "source": [
    "### **Tabelas Fato**"
   ]
  },
  {
   "cell_type": "code",
   "execution_count": 7,
   "id": "d67423d9",
   "metadata": {},
   "outputs": [],
   "source": [
    "# Fato com apenas eventos de compra\n",
    "fact_sales = df[df['event_type'] == 'purchase'][['event_time', 'product_id', 'user_id', 'price']]"
   ]
  },
  {
   "cell_type": "markdown",
   "id": "25b8ba2a",
   "metadata": {},
   "source": [
    "### **KPIs Estratégicos**"
   ]
  },
  {
   "cell_type": "code",
   "execution_count": 12,
   "id": "97f022d0",
   "metadata": {},
   "outputs": [],
   "source": [
    "# Receita total\n",
    "total_revenue = fact_sales['price'].sum()\n",
    "\n",
    "# Número de pedidos\n",
    "total_orders = fact_sales.shape[0]\n",
    "\n",
    "# Ticket médio\n",
    "avg_ticket = total_revenue / total_orders\n",
    "\n",
    "# KPIs por produto\n",
    "kpis = fact_sales.groupby('product_id').agg(\n",
    "    total_sales=('price', 'sum'),\n",
    "    num_orders=('product_id', 'count'),\n",
    "    avg_price=('price', 'mean')\n",
    ").reset_index()\n"
   ]
  },
  {
   "cell_type": "markdown",
   "id": "b3ddc08e",
   "metadata": {},
   "source": [
    "### **Exportar para CSV**"
   ]
  },
  {
   "cell_type": "code",
   "execution_count": 14,
   "id": "1c675208",
   "metadata": {},
   "outputs": [],
   "source": [
    "dim_products.to_csv(r'C:\\Users\\willi\\Documents\\001. Projetos\\002. Treinamentos\\003. Power BI\\002. Ecommerce Kaggle\\Ecommerce-BI\\modelagem\\dim_products.csv', index=False)\n",
    "dim_users.to_csv(r'C:\\Users\\willi\\Documents\\001. Projetos\\002. Treinamentos\\003. Power BI\\002. Ecommerce Kaggle\\Ecommerce-BI\\modelagem\\dim_users.csv', index=False)\n",
    "dim_date.to_csv(r'C:\\Users\\willi\\Documents\\001. Projetos\\002. Treinamentos\\003. Power BI\\002. Ecommerce Kaggle\\Ecommerce-BI\\modelagem\\dim_date.csv', index=False)\n",
    "fact_sales.to_csv(r'C:\\Users\\willi\\Documents\\001. Projetos\\002. Treinamentos\\003. Power BI\\002. Ecommerce Kaggle\\Ecommerce-BI\\modelagem\\fact_sales.csv', index=False)\n",
    "kpis.to_csv(r'C:\\Users\\willi\\Documents\\001. Projetos\\002. Treinamentos\\003. Power BI\\002. Ecommerce Kaggle\\Ecommerce-BI\\modelagem\\kpis.csv', index=False)"
   ]
  }
 ],
 "metadata": {
  "kernelspec": {
   "display_name": "Python 3",
   "language": "python",
   "name": "python3"
  },
  "language_info": {
   "codemirror_mode": {
    "name": "ipython",
    "version": 3
   },
   "file_extension": ".py",
   "mimetype": "text/x-python",
   "name": "python",
   "nbconvert_exporter": "python",
   "pygments_lexer": "ipython3",
   "version": "3.12.1"
  }
 },
 "nbformat": 4,
 "nbformat_minor": 5
}
